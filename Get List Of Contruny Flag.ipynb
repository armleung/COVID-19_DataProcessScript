{
 "cells": [
  {
   "cell_type": "code",
   "execution_count": 85,
   "metadata": {},
   "outputs": [],
   "source": [
    "import pandas as pd\n",
    "import requests\n",
    "import json\n",
    "from pandas.io.json import json_normalize  "
   ]
  },
  {
   "cell_type": "code",
   "execution_count": 9,
   "metadata": {},
   "outputs": [],
   "source": [
    "#Debugging\n",
    "def jprint(obj):\n",
    "    # create a formatted string of the Python JSON object\n",
    "    text = json.dumps(obj, sort_keys=True, indent=4)\n",
    "    print(text)"
   ]
  },
  {
   "cell_type": "code",
   "execution_count": 2,
   "metadata": {},
   "outputs": [],
   "source": [
    "df_link = 'https://raw.githubusercontent.com/CSSEGISandData/COVID-19/master/csse_covid_19_data/csse_covid_19_time_series/time_series_19-covid-Confirmed.csv'\n",
    "df = pd.read_csv(df_link)\n",
    "df.drop(columns=['Lat', 'Long','Province/State'], inplace=True)"
   ]
  },
  {
   "cell_type": "code",
   "execution_count": 3,
   "metadata": {},
   "outputs": [],
   "source": [
    "result = df.groupby('Country/Region').sum()\n",
    "result.reset_index(inplace=True)\n",
    "# Rename \n",
    "result[\"Country/Region\"]= result[\"Country/Region\"].replace(\"Mainland China\", \"China\")\n",
    "result[\"Country/Region\"]= result[\"Country/Region\"].replace(\"Others\", \"Diamond Princess\")"
   ]
  },
  {
   "cell_type": "code",
   "execution_count": 123,
   "metadata": {},
   "outputs": [],
   "source": [
    "def LocationRename(location):\n",
    "    return {\n",
    "        'North Macedonia' : 'Macedonia',\n",
    "        'South Korea' : 'Korea (Republic of)',\n",
    "        'Vatican City' : 'Vatican'\n",
    "    }.get(location,location)\n",
    "def GetJson(location):\n",
    "    location_api = LocationRename(location)\n",
    "    api_link_base = 'https://restcountries.eu/rest/v2/name/'\n",
    "    apt_link = api_link_base + location_api\n",
    "    response = requests.get(apt_link)\n",
    "    if response.status_code == 200:\n",
    "        return ({\n",
    "            \"name\" : location,\n",
    "            \"flag\" : response.json()[0]['flag'],\n",
    "            \"population\" : response.json()[0]['population'],\n",
    "            \"region\" : response.json()[0]['region']\n",
    "        })\n",
    "    else:\n",
    "        if location == 'Diamond Princess':\n",
    "            return ({\n",
    "                \"name\" : location,\n",
    "                \"flag\" : \"https://cdn.iconscout.com/icon/free/png-256/ship-pessanger-boat-transportation-vehicle-emoj-symbol-30767.png\",\n",
    "                \"population\" : 3770,\n",
    "                \"region\" : \"Asia\"\n",
    "            })\n",
    "        return ({\n",
    "            \"name\" : location,\n",
    "            \"flag\" : \"\",\n",
    "            \"population\" : 0,\n",
    "            \"region\" : \"\"\n",
    "        })"
   ]
  },
  {
   "cell_type": "code",
   "execution_count": 124,
   "metadata": {},
   "outputs": [],
   "source": [
    "country_json = json.loads(\"{\\\"country\\\" :[]}\")\n",
    "for country in result[\"Country/Region\"]:\n",
    "    country_json['country'].append(GetJson(country))"
   ]
  },
  {
   "cell_type": "code",
   "execution_count": 125,
   "metadata": {},
   "outputs": [],
   "source": [
    "pd.read_json(json.dumps(country_json['country'])).to_csv('temp.csv')"
   ]
  },
  {
   "cell_type": "code",
   "execution_count": 126,
   "metadata": {},
   "outputs": [],
   "source": [
    "df = pd.read_csv('temp.csv')\n",
    "df.drop(columns=['Unnamed: 0'],inplace=True)"
   ]
  }
 ],
 "metadata": {
  "kernelspec": {
   "display_name": "Python 3",
   "language": "python",
   "name": "python3"
  },
  "language_info": {
   "codemirror_mode": {
    "name": "ipython",
    "version": 3
   },
   "file_extension": ".py",
   "mimetype": "text/x-python",
   "name": "python",
   "nbconvert_exporter": "python",
   "pygments_lexer": "ipython3",
   "version": "3.6.9"
  }
 },
 "nbformat": 4,
 "nbformat_minor": 2
}
